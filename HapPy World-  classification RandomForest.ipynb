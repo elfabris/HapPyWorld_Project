{
 "cells": [
  {
   "cell_type": "code",
   "execution_count": 1,
   "id": "59d4e648",
   "metadata": {},
   "outputs": [],
   "source": [
    "import pandas as pd\n",
    "import numpy as np\n",
    "from sklearn.ensemble import RandomForestClassifier\n",
    "from sklearn.preprocessing import StandardScaler\n",
    "from sklearn.model_selection import train_test_split,GridSearchCV\n",
    "from sklearn.metrics import mean_squared_error"
   ]
  },
  {
   "cell_type": "markdown",
   "id": "4f28dc86",
   "metadata": {},
   "source": [
    "Nous cherchons ici a élaboré un model de ML qui va nous permettre de savoir si un pays se situe dans la tranche des pays\n",
    "les plus heureux ou au contraire dans celle des pays les moins heureux."
   ]
  },
  {
   "cell_type": "code",
   "execution_count": 2,
   "id": "2a880565",
   "metadata": {},
   "outputs": [
    {
     "name": "stdout",
     "output_type": "stream",
     "text": [
      "<class 'pandas.core.frame.DataFrame'>\n",
      "Int64Index: 2035 entries, 0 to 2034\n",
      "Data columns (total 11 columns):\n",
      " #   Column                        Non-Null Count  Dtype  \n",
      "---  ------                        --------------  -----  \n",
      " 0   Country name                  2035 non-null   object \n",
      " 1   Ladder score                  2035 non-null   float64\n",
      " 2   Logged GDP per capita         2011 non-null   float64\n",
      " 3   Social support                2026 non-null   float64\n",
      " 4   Healthy life expectancy       1984 non-null   float64\n",
      " 5   Freedom to make life choices  2005 non-null   float64\n",
      " 6   Generosity                    1959 non-null   float64\n",
      " 7   Perceptions of corruption     1931 non-null   float64\n",
      " 8   year                          2035 non-null   int32  \n",
      " 9   Regional indicator            2035 non-null   object \n",
      " 10  rank                          2035 non-null   int32  \n",
      "dtypes: float64(7), int32(2), object(2)\n",
      "memory usage: 174.9+ KB\n"
     ]
    }
   ],
   "source": [
    "#import des 2 csv\n",
    "\n",
    "df = pd.read_csv('world-happiness-report-2021.csv')\n",
    "\n",
    "df2 = pd.read_csv('world-happiness-report.csv')\n",
    "df2.head()\n",
    "\n",
    "#Création liste des régions du monde par pays\n",
    "country_region = df.iloc[:,0:2]\n",
    "\n",
    "#Mise en forme des 2 datasets en prévision du concat\n",
    "#dataset de 2021 :\n",
    "df_1 = df.iloc[:,:12]\n",
    "df_1 = df_1.drop(df.iloc[:,3:6], axis=1)\n",
    "df_1 = df_1.drop('Regional indicator', axis=1)\n",
    "df_1['year']='2021'\n",
    "\n",
    "#dataset historique depuis 2005 :\n",
    "df_2 = df2.iloc[:, :-2]\n",
    "dico = {'Life Ladder' : 'Ladder score', 'Log GDP per capita' : 'Logged GDP per capita', 'Healthy life expectancy at birth' : 'Healthy life expectancy'}\n",
    "df_2.rename(dico, axis=1, inplace=True)\n",
    "\n",
    "#création du fichier contenants les données depuis 2005 :\n",
    "df_full = pd.concat([df_1, df_2], axis=0)\n",
    "df_full['year'] = df_full['year'].astype('int')\n",
    "df_full = df_full.sort_values(by='Country name', ascending=True)\n",
    "\n",
    "#ajout colonne Region d'après le df country_region créé précédemment :\n",
    "df_full = df_full.merge(country_region, on = 'Country name', how ='inner')\n",
    "\n",
    "#ajout du rank par année de chaque pays\n",
    "df_full[\"rank\"] = df_full.groupby(\"year\")[\"Ladder score\"].rank(\"dense\", ascending=False).astype('int')\n",
    "\n",
    "df_full.head()\n",
    "df_full.info()"
   ]
  },
  {
   "cell_type": "code",
   "execution_count": 3,
   "id": "e0d02782",
   "metadata": {},
   "outputs": [],
   "source": [
    "\n",
    "#Remplacement des NaN par les moyennes des variables en fonction de chaque pays\n",
    "for i in df_full.iloc[:,2:8].columns : \n",
    "    df_full[i] = df_full[i].fillna(df_full.groupby('Country name')[i].transform(\"mean\"))"
   ]
  },
  {
   "cell_type": "code",
   "execution_count": 4,
   "id": "484fb060",
   "metadata": {},
   "outputs": [],
   "source": [
    "#transformation de la variable Ladder Score en 2 catéogire. Catégorie 1, pays les plus heureux, 2: pays les moins heureux.\n",
    "\n",
    "def filtre(x):\n",
    "    if x >= 0 and x <= 5.5 :\n",
    "        return '2'\n",
    "    if x > 5.5 and x <= 10 :\n",
    "        return '1'\n",
    "\n",
    "df_full['Ladder score_categ'] = df_full['Ladder score'].apply(filtre)"
   ]
  },
  {
   "cell_type": "code",
   "execution_count": 5,
   "id": "7a5d143d",
   "metadata": {},
   "outputs": [],
   "source": [
    "# variable cile\n",
    "\n",
    "target = df_full['Ladder score_categ']\n",
    "\n",
    "#création d'un DataFrame contenant uniquement les features\n",
    "\n",
    "col_feat = ['Logged GDP per capita', 'Social support', 'Healthy life expectancy',\n",
    "       'Freedom to make life choices', 'Generosity',\n",
    "       'Perceptions of corruption']\n",
    "\n",
    "\n",
    "\n",
    "rlm_df_full = df_full[col_feat]"
   ]
  },
  {
   "cell_type": "code",
   "execution_count": 6,
   "id": "6f8107fc",
   "metadata": {},
   "outputs": [],
   "source": [
    "#Standardisation des données\n",
    "\n",
    "\n",
    "scaler = StandardScaler()\n",
    "data = scaler.fit_transform(rlm_df_full)\n",
    "\n"
   ]
  },
  {
   "cell_type": "code",
   "execution_count": 7,
   "id": "40d3db3c",
   "metadata": {},
   "outputs": [],
   "source": [
    "# Séparation des données en deux jeux train et test:\n",
    "\n",
    "X_train, X_test, y_train, y_test = train_test_split(data, target, test_size=0.2, random_state=666)\n"
   ]
  },
  {
   "cell_type": "markdown",
   "id": "d38e6080",
   "metadata": {},
   "source": [
    "Un découpage des features par composante via ACP a été tenté, 2 composantes ressortaient mais cela a réduit l'efficacité du model de quelques %, cette approche a donc été laissé de côté.\n",
    "\n"
   ]
  },
  {
   "cell_type": "markdown",
   "id": "4ca89551",
   "metadata": {},
   "source": [
    "Pour le choix du model, 3 variantes ont été testés: SVM, RandomForest et KNN. Le SVM a été éliminé rapidement car très long \n",
    "sur la recherche des best paramétres (plusieurs heures), Le randomforest ayant donné les meilleurs résultats,\n",
    "nous l avons donc conservé comme model final."
   ]
  },
  {
   "cell_type": "code",
   "execution_count": 8,
   "id": "3898da53",
   "metadata": {},
   "outputs": [
    {
     "name": "stdout",
     "output_type": "stream",
     "text": [
      "{'criterion': 'entropy', 'max_features': 'sqrt', 'n_estimators': 310}\n"
     ]
    }
   ],
   "source": [
    "#Création d'un model de RandomForest + GridSearch afin de trouver les meilleurs hyperparamètres \n",
    "\n",
    "clf = RandomForestClassifier(random_state=666)\n",
    "l = np.arange(100,400,10)\n",
    "param = {\"max_features\" : [\"sqrt\", \"log2\"], \"n_estimators\": l, \"criterion\" :[\"gini\", \"entropy\"]}\n",
    "\n",
    "grid = GridSearchCV(estimator=clf,param_grid=param)\n",
    "grid.fit(X_train,y_train)\n",
    "print(grid.best_params_)\n"
   ]
  },
  {
   "cell_type": "code",
   "execution_count": 9,
   "id": "28712257",
   "metadata": {},
   "outputs": [
    {
     "name": "stdout",
     "output_type": "stream",
     "text": [
      "score test : 0.9017199017199017\n",
      "mse test : 0.09828009828009827\n"
     ]
    }
   ],
   "source": [
    "#création d'un model de RanDomForest basé sur les best paramètres:\n",
    "\n",
    "clf_best = RandomForestClassifier(criterion=\"entropy\", max_features=\"sqrt\", n_estimators = 310, random_state =666)\n",
    "\n",
    "clf_best.fit(X_train,y_train)\n",
    "y_pred = clf_best.predict(X_test)\n",
    "\n",
    "print('score test :', clf_best.score(X_test, y_test))\n",
    "print('mse test :', mean_squared_error(y_pred, y_test))"
   ]
  },
  {
   "cell_type": "code",
   "execution_count": 10,
   "id": "b2edf576",
   "metadata": {},
   "outputs": [
    {
     "data": {
      "text/html": [
       "<div>\n",
       "<style scoped>\n",
       "    .dataframe tbody tr th:only-of-type {\n",
       "        vertical-align: middle;\n",
       "    }\n",
       "\n",
       "    .dataframe tbody tr th {\n",
       "        vertical-align: top;\n",
       "    }\n",
       "\n",
       "    .dataframe thead th {\n",
       "        text-align: right;\n",
       "    }\n",
       "</style>\n",
       "<table border=\"1\" class=\"dataframe\">\n",
       "  <thead>\n",
       "    <tr style=\"text-align: right;\">\n",
       "      <th>Classe prédite</th>\n",
       "      <th>1</th>\n",
       "      <th>2</th>\n",
       "    </tr>\n",
       "    <tr>\n",
       "      <th>Classe réelle</th>\n",
       "      <th></th>\n",
       "      <th></th>\n",
       "    </tr>\n",
       "  </thead>\n",
       "  <tbody>\n",
       "    <tr>\n",
       "      <th>1</th>\n",
       "      <td>159</td>\n",
       "      <td>16</td>\n",
       "    </tr>\n",
       "    <tr>\n",
       "      <th>2</th>\n",
       "      <td>24</td>\n",
       "      <td>208</td>\n",
       "    </tr>\n",
       "  </tbody>\n",
       "</table>\n",
       "</div>"
      ],
      "text/plain": [
       "Classe prédite    1    2\n",
       "Classe réelle           \n",
       "1               159   16\n",
       "2                24  208"
      ]
     },
     "execution_count": 10,
     "metadata": {},
     "output_type": "execute_result"
    }
   ],
   "source": [
    "pd.crosstab(y_test, y_pred, rownames = ['Classe réelle'], colnames = ['Classe prédite'])"
   ]
  },
  {
   "cell_type": "code",
   "execution_count": 11,
   "id": "02002874",
   "metadata": {},
   "outputs": [
    {
     "name": "stdout",
     "output_type": "stream",
     "text": [
      "              precision    recall  f1-score   support\n",
      "\n",
      "           1       0.87      0.91      0.89       175\n",
      "           2       0.93      0.90      0.91       232\n",
      "\n",
      "    accuracy                           0.90       407\n",
      "   macro avg       0.90      0.90      0.90       407\n",
      "weighted avg       0.90      0.90      0.90       407\n",
      "\n"
     ]
    }
   ],
   "source": [
    "from sklearn.metrics import classification_report\n",
    "\n",
    "print(classification_report(y_test,y_pred))"
   ]
  },
  {
   "cell_type": "markdown",
   "id": "10908606",
   "metadata": {},
   "source": [
    "Une accurracy global de 90%, model très performant "
   ]
  }
 ],
 "metadata": {
  "kernelspec": {
   "display_name": "Python 3",
   "language": "python",
   "name": "python3"
  },
  "language_info": {
   "codemirror_mode": {
    "name": "ipython",
    "version": 3
   },
   "file_extension": ".py",
   "mimetype": "text/x-python",
   "name": "python",
   "nbconvert_exporter": "python",
   "pygments_lexer": "ipython3",
   "version": "3.8.8"
  }
 },
 "nbformat": 4,
 "nbformat_minor": 5
}
