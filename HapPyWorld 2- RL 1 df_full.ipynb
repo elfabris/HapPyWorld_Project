{
 "cells": [
  {
   "cell_type": "code",
   "execution_count": 1,
   "id": "582f2c27",
   "metadata": {},
   "outputs": [],
   "source": [
    "import pandas as pd\n",
    "import numpy as np\n",
    "import seaborn as sns\n",
    "import matplotlib.pyplot as plt\n",
    "%matplotlib inline\n",
    "\n",
    "import plotly.express as px\n",
    "from sklearn import model_selection, preprocessing\n",
    "from sklearn.model_selection import cross_val_predict, cross_val_score, cross_validate\n",
    "from sklearn.linear_model import LinearRegression\n",
    "from sklearn.model_selection import train_test_split\n",
    "\n",
    "import scipy.stats as stats\n"
   ]
  },
  {
   "cell_type": "markdown",
   "id": "6f443ed7",
   "metadata": {},
   "source": [
    "# Préparation des données"
   ]
  },
  {
   "cell_type": "code",
   "execution_count": 2,
   "id": "1a58155d",
   "metadata": {},
   "outputs": [
    {
     "name": "stdout",
     "output_type": "stream",
     "text": [
      "<class 'pandas.core.frame.DataFrame'>\n",
      "Int64Index: 2035 entries, 0 to 2034\n",
      "Data columns (total 11 columns):\n",
      " #   Column                        Non-Null Count  Dtype  \n",
      "---  ------                        --------------  -----  \n",
      " 0   Country name                  2035 non-null   object \n",
      " 1   Ladder score                  2035 non-null   float64\n",
      " 2   Logged GDP per capita         2011 non-null   float64\n",
      " 3   Social support                2026 non-null   float64\n",
      " 4   Healthy life expectancy       1984 non-null   float64\n",
      " 5   Freedom to make life choices  2005 non-null   float64\n",
      " 6   Generosity                    1959 non-null   float64\n",
      " 7   Perceptions of corruption     1931 non-null   float64\n",
      " 8   year                          2035 non-null   int32  \n",
      " 9   Regional indicator            2035 non-null   object \n",
      " 10  rank                          2035 non-null   int32  \n",
      "dtypes: float64(7), int32(2), object(2)\n",
      "memory usage: 174.9+ KB\n"
     ]
    }
   ],
   "source": [
    "df = pd.read_csv('world-happiness-report-2021.csv')\n",
    "#df.head()\n",
    "#df.info()\n",
    "#df.describe()\n",
    "\n",
    "df2 = pd.read_csv('world-happiness-report.csv')\n",
    "df2.head()\n",
    "\n",
    "#Création liste des régions du monde par pays\n",
    "country_region = df.iloc[:,0:2]\n",
    "\n",
    "#Mise en forme des 2 datasets en prévision du concat\n",
    "#dataset de 2021 :\n",
    "df_1 = df.iloc[:,:12]\n",
    "df_1 = df_1.drop(df.iloc[:,3:6], axis=1)\n",
    "df_1 = df_1.drop('Regional indicator', axis=1)\n",
    "df_1['year']='2021'\n",
    "\n",
    "#dataset historique depuis 2005 :\n",
    "df_2 = df2.iloc[:, :-2]\n",
    "dico = {'Life Ladder' : 'Ladder score', 'Log GDP per capita' : 'Logged GDP per capita', 'Healthy life expectancy at birth' : 'Healthy life expectancy'}\n",
    "df_2.rename(dico, axis=1, inplace=True)\n",
    "\n",
    "#création du fichier contenants les données depuis 2005 :\n",
    "df_full = pd.concat([df_1, df_2], axis=0)\n",
    "df_full['year'] = df_full['year'].astype('int')\n",
    "df_full = df_full.sort_values(by='Country name', ascending=True)\n",
    "\n",
    "#ajout colonne Region d'après le df country_region créé précédemment :\n",
    "df_full = df_full.merge(country_region, on = 'Country name', how ='inner')\n",
    "\n",
    "#ajout du rank par année de chaque pays\n",
    "df_full[\"rank\"] = df_full.groupby(\"year\")[\"Ladder score\"].rank(\"dense\", ascending=False).astype('int')\n",
    "\n",
    "df_full.head()\n",
    "df_full.info()"
   ]
  },
  {
   "cell_type": "markdown",
   "id": "d8308b76",
   "metadata": {},
   "source": [
    "# Régression linéaire sur df_full"
   ]
  },
  {
   "cell_type": "markdown",
   "id": "afc6d257",
   "metadata": {},
   "source": [
    "Notre objectif est de pouvoir définir le score d'un pays d'après les 6 variables de l'étude.\n",
    "Cela permettra d'établir le score d'un nouveau pays ou d'en analyser évolution en modifiant ses valeurs.\n",
    "\n",
    "Nous avons donc opté pour une régression comme première itération. \n",
    "\n"
   ]
  },
  {
   "cell_type": "code",
   "execution_count": 3,
   "id": "1796d760",
   "metadata": {
    "scrolled": true
   },
   "outputs": [
    {
     "data": {
      "text/html": [
       "<div>\n",
       "<style scoped>\n",
       "    .dataframe tbody tr th:only-of-type {\n",
       "        vertical-align: middle;\n",
       "    }\n",
       "\n",
       "    .dataframe tbody tr th {\n",
       "        vertical-align: top;\n",
       "    }\n",
       "\n",
       "    .dataframe thead th {\n",
       "        text-align: right;\n",
       "    }\n",
       "</style>\n",
       "<table border=\"1\" class=\"dataframe\">\n",
       "  <thead>\n",
       "    <tr style=\"text-align: right;\">\n",
       "      <th></th>\n",
       "      <th>Country name</th>\n",
       "      <th>Ladder score</th>\n",
       "      <th>Logged GDP per capita</th>\n",
       "      <th>Social support</th>\n",
       "      <th>Healthy life expectancy</th>\n",
       "      <th>Freedom to make life choices</th>\n",
       "      <th>Generosity</th>\n",
       "      <th>Perceptions of corruption</th>\n",
       "      <th>year</th>\n",
       "      <th>Regional indicator</th>\n",
       "      <th>rank</th>\n",
       "    </tr>\n",
       "  </thead>\n",
       "  <tbody>\n",
       "    <tr>\n",
       "      <th>0</th>\n",
       "      <td>Afghanistan</td>\n",
       "      <td>4.402</td>\n",
       "      <td>7.540</td>\n",
       "      <td>0.552</td>\n",
       "      <td>51.20</td>\n",
       "      <td>0.679</td>\n",
       "      <td>0.190</td>\n",
       "      <td>0.850</td>\n",
       "      <td>2009</td>\n",
       "      <td>South Asia</td>\n",
       "      <td>91</td>\n",
       "    </tr>\n",
       "    <tr>\n",
       "      <th>1</th>\n",
       "      <td>Afghanistan</td>\n",
       "      <td>3.131</td>\n",
       "      <td>7.718</td>\n",
       "      <td>0.526</td>\n",
       "      <td>52.88</td>\n",
       "      <td>0.509</td>\n",
       "      <td>0.104</td>\n",
       "      <td>0.871</td>\n",
       "      <td>2014</td>\n",
       "      <td>South Asia</td>\n",
       "      <td>135</td>\n",
       "    </tr>\n",
       "    <tr>\n",
       "      <th>2</th>\n",
       "      <td>Afghanistan</td>\n",
       "      <td>3.983</td>\n",
       "      <td>7.702</td>\n",
       "      <td>0.529</td>\n",
       "      <td>53.20</td>\n",
       "      <td>0.389</td>\n",
       "      <td>0.080</td>\n",
       "      <td>0.881</td>\n",
       "      <td>2015</td>\n",
       "      <td>South Asia</td>\n",
       "      <td>121</td>\n",
       "    </tr>\n",
       "    <tr>\n",
       "      <th>3</th>\n",
       "      <td>Afghanistan</td>\n",
       "      <td>4.220</td>\n",
       "      <td>7.697</td>\n",
       "      <td>0.559</td>\n",
       "      <td>53.00</td>\n",
       "      <td>0.523</td>\n",
       "      <td>0.042</td>\n",
       "      <td>0.793</td>\n",
       "      <td>2016</td>\n",
       "      <td>South Asia</td>\n",
       "      <td>114</td>\n",
       "    </tr>\n",
       "    <tr>\n",
       "      <th>4</th>\n",
       "      <td>Afghanistan</td>\n",
       "      <td>2.662</td>\n",
       "      <td>7.697</td>\n",
       "      <td>0.491</td>\n",
       "      <td>52.80</td>\n",
       "      <td>0.427</td>\n",
       "      <td>-0.121</td>\n",
       "      <td>0.954</td>\n",
       "      <td>2017</td>\n",
       "      <td>South Asia</td>\n",
       "      <td>142</td>\n",
       "    </tr>\n",
       "  </tbody>\n",
       "</table>\n",
       "</div>"
      ],
      "text/plain": [
       "  Country name  Ladder score  Logged GDP per capita  Social support  \\\n",
       "0  Afghanistan         4.402                  7.540           0.552   \n",
       "1  Afghanistan         3.131                  7.718           0.526   \n",
       "2  Afghanistan         3.983                  7.702           0.529   \n",
       "3  Afghanistan         4.220                  7.697           0.559   \n",
       "4  Afghanistan         2.662                  7.697           0.491   \n",
       "\n",
       "   Healthy life expectancy  Freedom to make life choices  Generosity  \\\n",
       "0                    51.20                         0.679       0.190   \n",
       "1                    52.88                         0.509       0.104   \n",
       "2                    53.20                         0.389       0.080   \n",
       "3                    53.00                         0.523       0.042   \n",
       "4                    52.80                         0.427      -0.121   \n",
       "\n",
       "   Perceptions of corruption  year Regional indicator  rank  \n",
       "0                      0.850  2009         South Asia    91  \n",
       "1                      0.871  2014         South Asia   135  \n",
       "2                      0.881  2015         South Asia   121  \n",
       "3                      0.793  2016         South Asia   114  \n",
       "4                      0.954  2017         South Asia   142  "
      ]
     },
     "execution_count": 3,
     "metadata": {},
     "output_type": "execute_result"
    }
   ],
   "source": [
    "df_full.head()"
   ]
  },
  {
   "cell_type": "code",
   "execution_count": 4,
   "id": "14536463",
   "metadata": {},
   "outputs": [],
   "source": [
    "#Remplacement des NaN par les moyennes des variables en fonction de chaque pays\n",
    "for i in df_full.iloc[:,2:8].columns : \n",
    "    df_full[i] = df_full[i].fillna(df_full.groupby('Country name')[i].transform(\"mean\"))"
   ]
  },
  {
   "cell_type": "code",
   "execution_count": 5,
   "id": "f641edc7",
   "metadata": {},
   "outputs": [
    {
     "name": "stdout",
     "output_type": "stream",
     "text": [
      "<class 'pandas.core.frame.DataFrame'>\n",
      "Int64Index: 2035 entries, 0 to 2034\n",
      "Data columns (total 11 columns):\n",
      " #   Column                        Non-Null Count  Dtype  \n",
      "---  ------                        --------------  -----  \n",
      " 0   Country name                  2035 non-null   object \n",
      " 1   Ladder score                  2035 non-null   float64\n",
      " 2   Logged GDP per capita         2035 non-null   float64\n",
      " 3   Social support                2035 non-null   float64\n",
      " 4   Healthy life expectancy       2035 non-null   float64\n",
      " 5   Freedom to make life choices  2035 non-null   float64\n",
      " 6   Generosity                    2035 non-null   float64\n",
      " 7   Perceptions of corruption     2035 non-null   float64\n",
      " 8   year                          2035 non-null   int32  \n",
      " 9   Regional indicator            2035 non-null   object \n",
      " 10  rank                          2035 non-null   int32  \n",
      "dtypes: float64(7), int32(2), object(2)\n",
      "memory usage: 174.9+ KB\n"
     ]
    }
   ],
   "source": [
    "df_full.info()"
   ]
  },
  {
   "cell_type": "code",
   "execution_count": 6,
   "id": "13750b39",
   "metadata": {},
   "outputs": [],
   "source": [
    "## variable cile\n",
    "\n",
    "target_full = df_full['Ladder score']\n",
    "\n",
    "#df pour la rl\n",
    "\n",
    "col_feat = ['Logged GDP per capita', 'Social support', 'Healthy life expectancy',\n",
    "       'Freedom to make life choices', 'Generosity',\n",
    "       'Perceptions of corruption']\n",
    "\n",
    "\n",
    "\n",
    "rlm_df_full = df_full[col_feat]\n",
    "\n"
   ]
  },
  {
   "cell_type": "code",
   "execution_count": 7,
   "id": "7c4ba9cb",
   "metadata": {},
   "outputs": [
    {
     "data": {
      "text/plain": [
       "LinearRegression()"
      ]
     },
     "execution_count": 7,
     "metadata": {},
     "output_type": "execute_result"
    }
   ],
   "source": [
    "X_train, X_test, y_train, y_test = train_test_split(rlm_df_full, target_full, test_size=0.2, random_state=10)\n",
    "\n",
    "scaler = preprocessing.StandardScaler().fit(X_train)\n",
    "\n",
    "X_train_scaled = scaler.transform(X_train)\n",
    "\n",
    "X_test_scaled = scaler.transform(X_test)\n",
    "\n",
    "lr = LinearRegression()\n",
    "\n",
    "lr.fit(X_train_scaled, y_train)"
   ]
  },
  {
   "cell_type": "code",
   "execution_count": 8,
   "id": "3a989ad8",
   "metadata": {},
   "outputs": [
    {
     "name": "stdout",
     "output_type": "stream",
     "text": [
      "Coef de détermination du modèle : 0.7287878256957533\n",
      "Coef de détermination obtenu par cv : 0.7267393495228369\n",
      "Score test : 0.7672900793406261\n"
     ]
    }
   ],
   "source": [
    "print('Coef de détermination du modèle :', lr.score(X_train_scaled, y_train))\n",
    "\n",
    "print('Coef de détermination obtenu par cv :', cross_val_score(lr, X_train_scaled, y_train).mean())\n",
    "\n",
    "print('Score test :', lr.score(X_test_scaled, y_test))"
   ]
  },
  {
   "cell_type": "code",
   "execution_count": 9,
   "id": "4f8db39c",
   "metadata": {
    "scrolled": true
   },
   "outputs": [
    {
     "data": {
      "image/png": "[encoded data removed]",
      "text/plain": [
       "<Figure size 432x288 with 1 Axes>"
      ]
     },
     "metadata": {
      "needs_background": "light"
     },
     "output_type": "display_data"
    }
   ],
   "source": [
    "pred_test = lr.predict(X_test_scaled)\n",
    "plt.scatter(pred_test, y_test)\n",
    "plt.plot((y_test.min(), y_test.max()), (y_test.min(), y_test.max()));"
   ]
  },
  {
   "cell_type": "markdown",
   "id": "67ab2c94",
   "metadata": {},
   "source": [
    "On obtient un score de ~77% avec ce modèle. "
   ]
  },
  {
   "cell_type": "markdown",
   "id": "cf395e6c",
   "metadata": {},
   "source": [
    "\n",
    "### Recherche des variables significatives avec SelectFromModel :\n"
   ]
  },
  {
   "cell_type": "code",
   "execution_count": 10,
   "id": "636bbd4b",
   "metadata": {},
   "outputs": [],
   "source": [
    "from sklearn.feature_selection import SelectFromModel\n",
    "\n",
    "sfm = SelectFromModel(lr)\n",
    "\n",
    "sfm_train = sfm.fit_transform(X_train_scaled, y_train)\n",
    "\n",
    "sfm_test = sfm.transform(X_test_scaled)"
   ]
  },
  {
   "cell_type": "code",
   "execution_count": 11,
   "id": "72ea0c51",
   "metadata": {},
   "outputs": [
    {
     "data": {
      "text/plain": [
       "Index(['Logged GDP per capita', 'Social support'], dtype='object')"
      ]
     },
     "execution_count": 11,
     "metadata": {},
     "output_type": "execute_result"
    }
   ],
   "source": [
    "significant_feat = rlm_df_full.columns[sfm.get_support()]\n",
    "\n",
    "significant_feat"
   ]
  },
  {
   "cell_type": "code",
   "execution_count": 12,
   "id": "984d20a1",
   "metadata": {},
   "outputs": [
    {
     "data": {
      "text/plain": [
       "LinearRegression()"
      ]
     },
     "execution_count": 12,
     "metadata": {},
     "output_type": "execute_result"
    }
   ],
   "source": [
    "lr2 = LinearRegression()\n",
    "\n",
    "lr2.fit(X_train[significant_feat], y_train)\n",
    "\n"
   ]
  },
  {
   "cell_type": "code",
   "execution_count": 13,
   "id": "713292f5",
   "metadata": {
    "scrolled": false
   },
   "outputs": [
    {
     "name": "stdout",
     "output_type": "stream",
     "text": [
      "score train : 0.6609088737338665\n",
      "score test : 0.7017327007194141\n"
     ]
    }
   ],
   "source": [
    "print('score train :', lr2.score(X_train[significant_feat], y_train))\n",
    "print('score test :', lr2.score(X_test[significant_feat], y_test))"
   ]
  },
  {
   "cell_type": "markdown",
   "id": "a3e45d6e",
   "metadata": {},
   "source": [
    "En entrainant le modèle sur ces 2 variables indiquées par le SelectFromModel ('Logged GDP per capita' et 'Social support') on obtient un score sur l'échantillon de test de ~70%."
   ]
  },
  {
   "cell_type": "markdown",
   "id": "57e39e33",
   "metadata": {},
   "source": [
    "### Recherche des variables significatives avec SelectKBest"
   ]
  },
  {
   "cell_type": "code",
   "execution_count": 14,
   "id": "b75b9858",
   "metadata": {},
   "outputs": [],
   "source": [
    "from sklearn.feature_selection import SelectKBest, f_regression\n",
    "\n",
    "sk = SelectKBest(f_regression, k=3)\n",
    "\n",
    "sk.fit(X_train, y_train)\n",
    "\n",
    "significant_feat = rlm_df_full.columns[sk.get_support()]\n",
    "\n",
    "\n"
   ]
  },
  {
   "cell_type": "code",
   "execution_count": 15,
   "id": "67e0b23e",
   "metadata": {},
   "outputs": [
    {
     "data": {
      "text/plain": [
       "LinearRegression()"
      ]
     },
     "execution_count": 15,
     "metadata": {},
     "output_type": "execute_result"
    }
   ],
   "source": [
    "lr2 = LinearRegression()\n",
    "\n",
    "lr2.fit(X_train[significant_feat], y_train)"
   ]
  },
  {
   "cell_type": "code",
   "execution_count": 16,
   "id": "985e2ef9",
   "metadata": {},
   "outputs": [
    {
     "name": "stdout",
     "output_type": "stream",
     "text": [
      "score train : 0.6746667237232329\n",
      "score test : 0.717184172560545\n"
     ]
    }
   ],
   "source": [
    "print('score train :', lr2.score(X_train[significant_feat], y_train))\n",
    "print('score test :', lr2.score(X_test[significant_feat], y_test))"
   ]
  },
  {
   "cell_type": "markdown",
   "id": "dc48aaaa",
   "metadata": {},
   "source": [
    "Avec ces 3 variables sélectionnées par SelectKBest : ['Logged GDP per capita', 'Social support', 'Healthy life expectancy'] score_test ~72%"
   ]
  },
  {
   "cell_type": "markdown",
   "id": "6528070d",
   "metadata": {},
   "source": [
    "# Conclusion Itération 1"
   ]
  },
  {
   "cell_type": "markdown",
   "id": "68a1af49",
   "metadata": {},
   "source": [
    "La Régression Linéaire incluant l'ensemble des 6 variables est la plus performante, avec un score avoisinnant les 77%.\n",
    "\n",
    "Nous avons également testé les régressions linéaires régularisées vues en cours (Ridge, Lasso et Elastic Net), les scores obtenus étaient toujours inférieurs à ceux de la Régression linéraire multiple.\n"
   ]
  }
 ],
 "metadata": {
  "kernelspec": {
   "display_name": "Python 3",
   "language": "python",
   "name": "python3"
  },
  "language_info": {
   "codemirror_mode": {
    "name": "ipython",
    "version": 3
   },
   "file_extension": ".py",
   "mimetype": "text/x-python",
   "name": "python",
   "nbconvert_exporter": "python",
   "pygments_lexer": "ipython3",
   "version": "3.8.8"
  }
 },
 "nbformat": 4,
 "nbformat_minor": 5
}
